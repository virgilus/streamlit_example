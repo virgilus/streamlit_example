{
 "cells": [
  {
   "cell_type": "code",
   "execution_count": 7,
   "metadata": {},
   "outputs": [
    {
     "name": "stdout",
     "output_type": "stream",
     "text": [
      "I am a variable stored inside the .env file\n"
     ]
    },
    {
     "data": {
      "text/plain": [
       "'Data cleaned!'"
      ]
     },
     "execution_count": 7,
     "metadata": {},
     "output_type": "execute_result"
    }
   ],
   "source": [
    "import sys\n",
    "from os import getenv\n",
    "\n",
    "# If you're running your .py file or .ipynb file from a\n",
    "# different location than the root of your repo,\n",
    "# Python will not know where your package is.\n",
    "\n",
    "# So you need to add the path to the sys.path:\n",
    "PACKAGE_PATH = '/home/virgilus/Code/project_template/'\n",
    "#PACKAGE_PATH = '../' # An other method with relative path\n",
    "if PACKAGE_PATH not in sys.path: sys.path.append(PACKAGE_PATH)\n",
    "\n",
    "from project_template import process_data\n",
    "\n",
    "print(getenv('MY_ENV_VARIABLE'))\n",
    "process_data.clean_data()"
   ]
  },
  {
   "cell_type": "code",
   "execution_count": null,
   "metadata": {},
   "outputs": [],
   "source": []
  }
 ],
 "metadata": {
  "kernelspec": {
   "display_name": "Python 3",
   "language": "python",
   "name": "python3"
  },
  "language_info": {
   "codemirror_mode": {
    "name": "ipython",
    "version": 3
   },
   "file_extension": ".py",
   "mimetype": "text/x-python",
   "name": "python",
   "nbconvert_exporter": "python",
   "pygments_lexer": "ipython3",
   "version": "3.12.0"
  }
 },
 "nbformat": 4,
 "nbformat_minor": 2
}
